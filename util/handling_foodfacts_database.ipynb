{
 "cells": [
  {
   "cell_type": "code",
   "execution_count": null,
   "metadata": {},
   "outputs": [],
   "source": [
    "# Le e filtra a database mantendo apenas produtos vendidos no Brasil\n",
    "# import pandas\n",
    "# df = pandas.read_csv('E:/Documents/Facul/2024.1/Projetão/en.openfoodfacts.org.products.csv', sep=\"\\t\", on_bad_lines='warn')\n",
    "# print(df.shape)\n",
    "# for col in df.columns:\n",
    "#     print(col)\n",
    "# br = df[df[\"countries_en\"].str.contains(r\"\\b(brasil|brazil)\\b\", regex=True, case=False, na=False)]\n",
    "# br.to_csv('E:/Documents/Facul/2024.1/Projetão/br.openfoodfacts.org.products.csv', index=False)"
   ]
  },
  {
   "cell_type": "code",
   "execution_count": 329,
   "metadata": {},
   "outputs": [
    {
     "name": "stderr",
     "output_type": "stream",
     "text": [
      "C:\\Users\\Dário Vasconcelos\\AppData\\Local\\Temp\\ipykernel_11372\\672231543.py:3: DtypeWarning: Columns (0,33,35,67,72) have mixed types. Specify dtype option on import or set low_memory=False.\n",
      "  br = pandas.read_csv(\"E:/Documents/Facul/2024.1/Projetão/br.openfoodfacts.org.products.csv\")\n"
     ]
    },
    {
     "data": {
      "text/plain": [
       "(15294, 206)"
      ]
     },
     "execution_count": 329,
     "metadata": {},
     "output_type": "execute_result"
    }
   ],
   "source": [
    "import pandas\n",
    "\n",
    "br = pandas.read_csv(\"E:/Documents/Facul/2024.1/Projetão/br.openfoodfacts.org.products.csv\")\n",
    "br.shape"
   ]
  },
  {
   "cell_type": "code",
   "execution_count": null,
   "metadata": {},
   "outputs": [],
   "source": [
    "# toDynamodb = br[[\"code\", \"product_name\", \"quantity\", \"brands\", \"created_t\", \"last_modified_t\", \"last_updated_t\", \"ingredients_text\", \"allergens\", \"traces_en\", \"serving_quantity\", \"serving_size\", \"additives_en\", \"nutriscore_score\", \"nutriscore_grade\", \"nova_group\", \"brand_owner\", \"ecoscore_score\", \"ecoscore_grade\", \"nutrient_levels_tags\", \"product_quantity\", \"owner\", \"image_url\", \"image_small_url\", \"image_ingredients_url\", \"image_nutrition_url\", \"energy-kj_100g\", \"energy-kcal_100g\", \"energy_100g\", \"energy-from-fat_100g\", \"fat_100g\", \"saturated-fat_100g\", \"butyric-acid_100g\", \"caproic-acid_100g\", \"caprylic-acid_100g\", \"capric-acid_100g\", \"lauric-acid_100g\", \"myristic-acid_100g\", \"palmitic-acid_100g\", \"stearic-acid_100g\", \"arachidic-acid_100g\", \"behenic-acid_100g\", \"lignoceric-acid_100g\", \"cerotic-acid_100g\", \"montanic-acid_100g\", \"melissic-acid_100g\", \"unsaturated-fat_100g\", \"monounsaturated-fat_100g\", \"omega-9-fat_100g\", \"polyunsaturated-fat_100g\", \"omega-3-fat_100g\", \"omega-6-fat_100g\", \"alpha-linolenic-acid_100g\", \"eicosapentaenoic-acid_100g\", \"docosahexaenoic-acid_100g\", \"linoleic-acid_100g\", \"arachidonic-acid_100g\", \"gamma-linolenic-acid_100g\", \"dihomo-gamma-linolenic-acid_100g\", \"oleic-acid_100g\", \"elaidic-acid_100g\", \"gondoic-acid_100g\", \"mead-acid_100g\", \"erucic-acid_100g\", \"nervonic-acid_100g\", \"trans-fat_100g\", \"cholesterol_100g\", \"carbohydrates_100g\", \"sugars_100g\", \"added-sugars_100g\", \"sucrose_100g\", \"glucose_100g\", \"fructose_100g\", \"lactose_100g\", \"maltose_100g\", \"maltodextrins_100g\", \"starch_100g\", \"polyols_100g\", \"erythritol_100g\", \"fiber_100g\", \"soluble-fiber_100g\", \"insoluble-fiber_100g\", \"proteins_100g\", \"casein_100g\", \"serum-proteins_100g\", \"nucleotides_100g\", \"salt_100g\", \"added-salt_100g\", \"sodium_100g\", \"alcohol_100g\", \"vitamin-a_100g\", \"beta-carotene_100g\", \"vitamin-d_100g\", \"vitamin-e_100g\", \"vitamin-k_100g\", \"vitamin-c_100g\", \"vitamin-b1_100g\", \"vitamin-b2_100g\", \"vitamin-pp_100g\", \"vitamin-b6_100g\", \"vitamin-b9_100g\", \"folates_100g\", \"vitamin-b12_100g\", \"biotin_100g\", \"pantothenic-acid_100g\", \"silica_100g\", \"bicarbonate_100g\", \"potassium_100g\", \"chloride_100g\", \"calcium_100g\", \"phosphorus_100g\", \"iron_100g\", \"magnesium_100g\", \"zinc_100g\", \"copper_100g\", \"manganese_100g\", \"fluoride_100g\", \"selenium_100g\", \"chromium_100g\", \"molybdenum_100g\", \"iodine_100g\", \"caffeine_100g\", \"taurine_100g\", \"ph_100g\", \"fruits-vegetables-nuts_100g\", \"fruits-vegetables-nuts-dried_100g\", \"fruits-vegetables-nuts-estimate_100g\", \"fruits-vegetables-nuts-estimate-from-ingredients_100g\", \"collagen-meat-protein-ratio_100g\", \"cocoa_100g\", \"chlorophyl_100g\", \"carbon-footprint_100g\", \"carbon-footprint-from-meat-or-fish_100g\", \"nutrition-score-fr_100g\", \"nutrition-score-uk_100g\", \"glycemic-index_100g\", \"water-hardness_100g\", \"choline_100g\", \"phylloquinone_100g\", \"beta-glucan_100g\", \"inositol_100g\", \"carnitine_100g\", \"sulphate_100g\", \"nitrate_100g\", \"acidity_100g\"]]\n",
    "# toDynamodb['code'] = toDynamodb['code'].apply(lambda x: str(x) if isinstance(x, int) else x)\n",
    "# toDynamodb.rename(columns={'code': 'PK'}, inplace=True)\n",
    "# toDynamodb.to_csv('E:/Documents/Facul/2024.1/Projetão/toDynamoDB.openfoodfacts.org.products.csv', index=False)"
   ]
  },
  {
   "cell_type": "code",
   "execution_count": 332,
   "metadata": {},
   "outputs": [
    {
     "name": "stdout",
     "output_type": "stream",
     "text": [
      "(1495, 2)\n",
      "                        product_name  \\\n",
      "6                          Chex rice   \n",
      "7                 Fresh Orange Juice   \n",
      "9        Puff cheese flavored snacks   \n",
      "12                         Cococrisp   \n",
      "24                     Peanut butter   \n",
      "..                               ...   \n",
      "785                     Ninho Forti+   \n",
      "786                           KitKat   \n",
      "798                       Pepsi cola   \n",
      "810  Szechuen Preserved Mustard Stem   \n",
      "813                Garlic Green Peas   \n",
      "\n",
      "                                  nutrient_levels_tags  \n",
      "6    en:fat-in-low-quantity,en:saturated-fat-in-low...  \n",
      "7    en:fat-in-low-quantity,en:saturated-fat-in-low...  \n",
      "9    en:fat-in-moderate-quantity,en:saturated-fat-i...  \n",
      "12   en:fat-in-high-quantity,en:saturated-fat-in-hi...  \n",
      "24   en:fat-in-high-quantity,en:saturated-fat-in-hi...  \n",
      "..                                                 ...  \n",
      "785  en:fat-in-high-quantity,en:saturated-fat-in-hi...  \n",
      "786  en:fat-in-high-quantity,en:saturated-fat-in-hi...  \n",
      "798  en:fat-in-low-quantity,en:saturated-fat-in-low...  \n",
      "810  en:fat-in-moderate-quantity,en:saturated-fat-i...  \n",
      "813  en:fat-in-moderate-quantity,en:saturated-fat-i...  \n",
      "\n",
      "[100 rows x 2 columns]\n"
     ]
    }
   ],
   "source": [
    "colFilled = br[[\"product_name\", \"nutrient_levels_tags\"]].dropna()\n",
    "# colFilled = colFilled[colFilled[\"product_name\"].str.contains(\"Cereale\", case=False, na=False)]\n",
    "# colFilled = colFilled.loc[colFilled[\"code\"] == 7898403781298]\n",
    "# with pandas.option_context('display.max_colwidth', None):\n",
    "print(colFilled.shape)\n",
    "print(colFilled[:100])\n",
    "    "
   ]
  },
  {
   "cell_type": "code",
   "execution_count": null,
   "metadata": {},
   "outputs": [],
   "source": []
  }
 ],
 "metadata": {
  "kernelspec": {
   "display_name": "Python 3",
   "language": "python",
   "name": "python3"
  },
  "language_info": {
   "codemirror_mode": {
    "name": "ipython",
    "version": 3
   },
   "file_extension": ".py",
   "mimetype": "text/x-python",
   "name": "python",
   "nbconvert_exporter": "python",
   "pygments_lexer": "ipython3",
   "version": "3.12.4"
  }
 },
 "nbformat": 4,
 "nbformat_minor": 2
}
